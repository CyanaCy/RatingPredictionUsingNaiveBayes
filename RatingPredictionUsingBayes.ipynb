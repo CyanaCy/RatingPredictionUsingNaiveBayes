{
 "cells": [
  {
   "cell_type": "code",
   "execution_count": 1,
   "metadata": {},
   "outputs": [
    {
     "name": "stderr",
     "output_type": "stream",
     "text": [
      "[nltk_data] Downloading package stopwords to\n",
      "[nltk_data]     C:\\Users\\Cyana\\AppData\\Roaming\\nltk_data...\n",
      "[nltk_data]   Package stopwords is already up-to-date!\n"
     ]
    },
    {
     "data": {
      "text/plain": [
       "True"
      ]
     },
     "execution_count": 1,
     "metadata": {},
     "output_type": "execute_result"
    }
   ],
   "source": [
    "import json\n",
    "import re\n",
    "from random import seed, randrange\n",
    "from math import log\n",
    "from sklearn.utils import shuffle\n",
    "\n",
    "import nltk\n",
    "nltk.download(\"stopwords\")"
   ]
  },
  {
   "cell_type": "markdown",
   "metadata": {},
   "source": [
    "# 1 Import Dataset"
   ]
  },
  {
   "cell_type": "code",
   "execution_count": 2,
   "metadata": {},
   "outputs": [
    {
     "name": "stderr",
     "output_type": "stream",
     "text": [
      "D:\\_software\\Anaconda3\\lib\\site-packages\\numpy\\lib\\arraysetops.py:569: FutureWarning: elementwise comparison failed; returning scalar instead, but in the future will perform elementwise comparison\n",
      "  mask |= (ar1 == a)\n"
     ]
    },
    {
     "data": {
      "text/html": [
       "<div>\n",
       "<style scoped>\n",
       "    .dataframe tbody tr th:only-of-type {\n",
       "        vertical-align: middle;\n",
       "    }\n",
       "\n",
       "    .dataframe tbody tr th {\n",
       "        vertical-align: top;\n",
       "    }\n",
       "\n",
       "    .dataframe thead th {\n",
       "        text-align: right;\n",
       "    }\n",
       "</style>\n",
       "<table border=\"1\" class=\"dataframe\">\n",
       "  <thead>\n",
       "    <tr style=\"text-align: right;\">\n",
       "      <th></th>\n",
       "      <th>user</th>\n",
       "      <th>rating</th>\n",
       "      <th>comment</th>\n",
       "      <th>ID</th>\n",
       "      <th>name</th>\n",
       "    </tr>\n",
       "  </thead>\n",
       "  <tbody>\n",
       "    <tr>\n",
       "      <td>0</td>\n",
       "      <td>sidehacker</td>\n",
       "      <td>10.0</td>\n",
       "      <td>NaN</td>\n",
       "      <td>13</td>\n",
       "      <td>Catan</td>\n",
       "    </tr>\n",
       "    <tr>\n",
       "      <td>1</td>\n",
       "      <td>Varthlokkur</td>\n",
       "      <td>10.0</td>\n",
       "      <td>NaN</td>\n",
       "      <td>13</td>\n",
       "      <td>Catan</td>\n",
       "    </tr>\n",
       "    <tr>\n",
       "      <td>2</td>\n",
       "      <td>dougthonus</td>\n",
       "      <td>10.0</td>\n",
       "      <td>Currently, this sits on my list as my favorite...</td>\n",
       "      <td>13</td>\n",
       "      <td>Catan</td>\n",
       "    </tr>\n",
       "    <tr>\n",
       "      <td>3</td>\n",
       "      <td>cypar7</td>\n",
       "      <td>10.0</td>\n",
       "      <td>I know it says how many plays, but many, many ...</td>\n",
       "      <td>13</td>\n",
       "      <td>Catan</td>\n",
       "    </tr>\n",
       "    <tr>\n",
       "      <td>4</td>\n",
       "      <td>ssmooth</td>\n",
       "      <td>10.0</td>\n",
       "      <td>NaN</td>\n",
       "      <td>13</td>\n",
       "      <td>Catan</td>\n",
       "    </tr>\n",
       "  </tbody>\n",
       "</table>\n",
       "</div>"
      ],
      "text/plain": [
       "          user  rating                                            comment  ID  \\\n",
       "0   sidehacker    10.0                                                NaN  13   \n",
       "1  Varthlokkur    10.0                                                NaN  13   \n",
       "2   dougthonus    10.0  Currently, this sits on my list as my favorite...  13   \n",
       "3       cypar7    10.0  I know it says how many plays, but many, many ...  13   \n",
       "4      ssmooth    10.0                                                NaN  13   \n",
       "\n",
       "    name  \n",
       "0  Catan  \n",
       "1  Catan  \n",
       "2  Catan  \n",
       "3  Catan  \n",
       "4  Catan  "
      ]
     },
     "execution_count": 2,
     "metadata": {},
     "output_type": "execute_result"
    }
   ],
   "source": [
    "data_df = pd.read_csv('data/bgg-13m-reviews.csv',index_col=0)\n",
    "data_df.head()"
   ]
  },
  {
   "cell_type": "markdown",
   "metadata": {},
   "source": [
    "# 2 Data Preprocessing"
   ]
  },
  {
   "cell_type": "code",
   "execution_count": 3,
   "metadata": {},
   "outputs": [
    {
     "data": {
      "text/html": [
       "<div>\n",
       "<style scoped>\n",
       "    .dataframe tbody tr th:only-of-type {\n",
       "        vertical-align: middle;\n",
       "    }\n",
       "\n",
       "    .dataframe tbody tr th {\n",
       "        vertical-align: top;\n",
       "    }\n",
       "\n",
       "    .dataframe thead th {\n",
       "        text-align: right;\n",
       "    }\n",
       "</style>\n",
       "<table border=\"1\" class=\"dataframe\">\n",
       "  <thead>\n",
       "    <tr style=\"text-align: right;\">\n",
       "      <th></th>\n",
       "      <th>user</th>\n",
       "      <th>rating</th>\n",
       "      <th>comment</th>\n",
       "      <th>ID</th>\n",
       "      <th>name</th>\n",
       "    </tr>\n",
       "  </thead>\n",
       "  <tbody>\n",
       "    <tr>\n",
       "      <td>2</td>\n",
       "      <td>dougthonus</td>\n",
       "      <td>10.0</td>\n",
       "      <td>Currently, this sits on my list as my favorite...</td>\n",
       "      <td>13</td>\n",
       "      <td>Catan</td>\n",
       "    </tr>\n",
       "    <tr>\n",
       "      <td>3</td>\n",
       "      <td>cypar7</td>\n",
       "      <td>10.0</td>\n",
       "      <td>I know it says how many plays, but many, many ...</td>\n",
       "      <td>13</td>\n",
       "      <td>Catan</td>\n",
       "    </tr>\n",
       "    <tr>\n",
       "      <td>7</td>\n",
       "      <td>hreimer</td>\n",
       "      <td>10.0</td>\n",
       "      <td>i will never tire of this game.. Awesome</td>\n",
       "      <td>13</td>\n",
       "      <td>Catan</td>\n",
       "    </tr>\n",
       "    <tr>\n",
       "      <td>11</td>\n",
       "      <td>daredevil</td>\n",
       "      <td>10.0</td>\n",
       "      <td>This is probably the best game I ever played. ...</td>\n",
       "      <td>13</td>\n",
       "      <td>Catan</td>\n",
       "    </tr>\n",
       "    <tr>\n",
       "      <td>16</td>\n",
       "      <td>hurkle</td>\n",
       "      <td>10.0</td>\n",
       "      <td>Fantastic game. Got me hooked on games all ove...</td>\n",
       "      <td>13</td>\n",
       "      <td>Catan</td>\n",
       "    </tr>\n",
       "  </tbody>\n",
       "</table>\n",
       "</div>"
      ],
      "text/plain": [
       "          user  rating                                            comment  ID  \\\n",
       "2   dougthonus    10.0  Currently, this sits on my list as my favorite...  13   \n",
       "3       cypar7    10.0  I know it says how many plays, but many, many ...  13   \n",
       "7      hreimer    10.0           i will never tire of this game.. Awesome  13   \n",
       "11   daredevil    10.0  This is probably the best game I ever played. ...  13   \n",
       "16      hurkle    10.0  Fantastic game. Got me hooked on games all ove...  13   \n",
       "\n",
       "     name  \n",
       "2   Catan  \n",
       "3   Catan  \n",
       "7   Catan  \n",
       "11  Catan  \n",
       "16  Catan  "
      ]
     },
     "execution_count": 3,
     "metadata": {},
     "output_type": "execute_result"
    }
   ],
   "source": [
    "data_df = data_df.dropna()\n",
    "data_df.head()"
   ]
  },
  {
   "cell_type": "code",
   "execution_count": 4,
   "metadata": {},
   "outputs": [
    {
     "data": {
      "text/html": [
       "<div>\n",
       "<style scoped>\n",
       "    .dataframe tbody tr th:only-of-type {\n",
       "        vertical-align: middle;\n",
       "    }\n",
       "\n",
       "    .dataframe tbody tr th {\n",
       "        vertical-align: top;\n",
       "    }\n",
       "\n",
       "    .dataframe thead th {\n",
       "        text-align: right;\n",
       "    }\n",
       "</style>\n",
       "<table border=\"1\" class=\"dataframe\">\n",
       "  <thead>\n",
       "    <tr style=\"text-align: right;\">\n",
       "      <th></th>\n",
       "      <th>rating</th>\n",
       "      <th>comment</th>\n",
       "    </tr>\n",
       "  </thead>\n",
       "  <tbody>\n",
       "    <tr>\n",
       "      <td>2</td>\n",
       "      <td>10.0</td>\n",
       "      <td>Currently, this sits on my list as my favorite...</td>\n",
       "    </tr>\n",
       "    <tr>\n",
       "      <td>3</td>\n",
       "      <td>10.0</td>\n",
       "      <td>I know it says how many plays, but many, many ...</td>\n",
       "    </tr>\n",
       "    <tr>\n",
       "      <td>7</td>\n",
       "      <td>10.0</td>\n",
       "      <td>i will never tire of this game.. Awesome</td>\n",
       "    </tr>\n",
       "    <tr>\n",
       "      <td>11</td>\n",
       "      <td>10.0</td>\n",
       "      <td>This is probably the best game I ever played. ...</td>\n",
       "    </tr>\n",
       "    <tr>\n",
       "      <td>16</td>\n",
       "      <td>10.0</td>\n",
       "      <td>Fantastic game. Got me hooked on games all ove...</td>\n",
       "    </tr>\n",
       "  </tbody>\n",
       "</table>\n",
       "</div>"
      ],
      "text/plain": [
       "    rating                                            comment\n",
       "2     10.0  Currently, this sits on my list as my favorite...\n",
       "3     10.0  I know it says how many plays, but many, many ...\n",
       "7     10.0           i will never tire of this game.. Awesome\n",
       "11    10.0  This is probably the best game I ever played. ...\n",
       "16    10.0  Fantastic game. Got me hooked on games all ove..."
      ]
     },
     "execution_count": 4,
     "metadata": {},
     "output_type": "execute_result"
    }
   ],
   "source": [
    "reviews_df = data_df[['rating','comment']]\n",
    "reviews_df.head()"
   ]
  },
  {
   "cell_type": "code",
   "execution_count": 5,
   "metadata": {},
   "outputs": [
    {
     "data": {
      "text/html": [
       "<div>\n",
       "<style scoped>\n",
       "    .dataframe tbody tr th:only-of-type {\n",
       "        vertical-align: middle;\n",
       "    }\n",
       "\n",
       "    .dataframe tbody tr th {\n",
       "        vertical-align: top;\n",
       "    }\n",
       "\n",
       "    .dataframe thead th {\n",
       "        text-align: right;\n",
       "    }\n",
       "</style>\n",
       "<table border=\"1\" class=\"dataframe\">\n",
       "  <thead>\n",
       "    <tr style=\"text-align: right;\">\n",
       "      <th></th>\n",
       "      <th>rating</th>\n",
       "      <th>comment</th>\n",
       "    </tr>\n",
       "  </thead>\n",
       "  <tbody>\n",
       "    <tr>\n",
       "      <td>3124024</td>\n",
       "      <td>4.0</td>\n",
       "      <td>Beautiful but way too long and unexciting</td>\n",
       "    </tr>\n",
       "    <tr>\n",
       "      <td>9171441</td>\n",
       "      <td>6.0</td>\n",
       "      <td>played twice. second time was bad.  slow and d...</td>\n",
       "    </tr>\n",
       "    <tr>\n",
       "      <td>7840203</td>\n",
       "      <td>9.0</td>\n",
       "      <td>Some of our favorite scenarios/missions have b...</td>\n",
       "    </tr>\n",
       "    <tr>\n",
       "      <td>6581853</td>\n",
       "      <td>6.0</td>\n",
       "      <td>Not really too bad for a worker-placement game.</td>\n",
       "    </tr>\n",
       "    <tr>\n",
       "      <td>5211869</td>\n",
       "      <td>4.0</td>\n",
       "      <td>So now we have seperate entries for WotR first...</td>\n",
       "    </tr>\n",
       "  </tbody>\n",
       "</table>\n",
       "</div>"
      ],
      "text/plain": [
       "         rating                                            comment\n",
       "3124024     4.0          Beautiful but way too long and unexciting\n",
       "9171441     6.0  played twice. second time was bad.  slow and d...\n",
       "7840203     9.0  Some of our favorite scenarios/missions have b...\n",
       "6581853     6.0    Not really too bad for a worker-placement game.\n",
       "5211869     4.0  So now we have seperate entries for WotR first..."
      ]
     },
     "execution_count": 5,
     "metadata": {},
     "output_type": "execute_result"
    }
   ],
   "source": [
    "reviews_df = shuffle(reviews_df)\n",
    "reviews_df.head()"
   ]
  },
  {
   "cell_type": "markdown",
   "metadata": {},
   "source": [
    "## 2.1 Segmentation"
   ]
  },
  {
   "cell_type": "code",
   "execution_count": 6,
   "metadata": {},
   "outputs": [],
   "source": [
    "def segmentation(str):\n",
    "    words = re.sub('[^a-zA-Z]',' ', str).lower().split() # Remove non-alphabetic characters\n",
    "    stop_words = (nltk.corpus.stopwords.words('english')) # Remove stopwords\n",
    "    words =  [x for x in words if x not in stop_words]\n",
    "    return words"
   ]
  },
  {
   "cell_type": "code",
   "execution_count": 7,
   "metadata": {},
   "outputs": [],
   "source": [
    "x = [segmentation(review) for review in reviews_df['comment']]\n",
    "y = [round(r) for r in reviews_df['rating']]"
   ]
  },
  {
   "cell_type": "markdown",
   "metadata": {},
   "source": [
    "# 3 Divide Data"
   ]
  },
  {
   "cell_type": "code",
   "execution_count": 8,
   "metadata": {},
   "outputs": [
    {
     "name": "stdout",
     "output_type": "stream",
     "text": [
      "Size of Train Set:  2611379\n",
      "Size of Test Set:  26377\n"
     ]
    }
   ],
   "source": [
    "x_train, y_train, x_test, y_test = x, y, [], []\n",
    "test_size = int(len(x)*0.01)\n",
    "\n",
    "seed(1)\n",
    "\n",
    "for _ in range(test_size):\n",
    "    random_index = randrange(len(x_train))\n",
    "    x_test.append(x_train.pop(random_index))\n",
    "    y_test.append(y_train.pop(random_index))\n",
    "\n",
    "print('Size of Train Set: ', len(x_train))\n",
    "print('Size of Test Set: ', len(x_test))"
   ]
  },
  {
   "cell_type": "markdown",
   "metadata": {},
   "source": [
    "# 4 Text Feature Extraction"
   ]
  },
  {
   "cell_type": "code",
   "execution_count": 9,
   "metadata": {},
   "outputs": [],
   "source": [
    "# Get all the words in the training set non-repeatedly and record the index of each word\n",
    "words_index_dict = dict()\n",
    "index = 0\n",
    "for rating in x_train:\n",
    "    for word in rating:\n",
    "        if word not in words_index_dict:\n",
    "            words_index_dict[word]=index\n",
    "            index+=1"
   ]
  },
  {
   "cell_type": "code",
   "execution_count": 10,
   "metadata": {},
   "outputs": [],
   "source": [
    "tf={}\n",
    "idf = [0 for _ in range(len(words_index_dict))]\n",
    "for review_index, review in enumerate(x_train):\n",
    "    review_counts = pd.value_counts(review)\n",
    "    for word_index, word in enumerate(review):\n",
    "        if word in words_index_dict:\n",
    "            tf[(review_index,words_index_dict[word])] = review_counts[word]/len(review)\n",
    "            idf[words_index_dict[word]]+=1\n",
    "\n",
    "idf = [log(len(x_train)/(cont+1)) for cont in idf]"
   ]
  },
  {
   "cell_type": "markdown",
   "metadata": {},
   "source": [
    "# 5 Generate Conditional Probability Matrix"
   ]
  },
  {
   "cell_type": "code",
   "execution_count": 11,
   "metadata": {},
   "outputs": [],
   "source": [
    "for key in tf:\n",
    "    tf[key]*=idf[key[1]]"
   ]
  },
  {
   "cell_type": "code",
   "execution_count": 12,
   "metadata": {},
   "outputs": [],
   "source": [
    "tfidf=dict()\n",
    "for rating in range(11):\n",
    "    tfidf[rating]=[0 for _ in range(len(words_index_dict))]"
   ]
  },
  {
   "cell_type": "code",
   "execution_count": 13,
   "metadata": {},
   "outputs": [],
   "source": [
    "for key, value in tf.items():\n",
    "    label = y_train[key[0]]\n",
    "    word_index = key[1]\n",
    "    tfidf[label][word_index]+=value"
   ]
  },
  {
   "cell_type": "code",
   "execution_count": 14,
   "metadata": {},
   "outputs": [],
   "source": [
    "for i in range(len(tfidf)):\n",
    "    row_sum = sum(tfidf[i])\n",
    "    tfidf[i]=[x/row_sum for x in tfidf[i]]"
   ]
  },
  {
   "cell_type": "markdown",
   "metadata": {},
   "source": [
    "# 6 Calculate Accuracy"
   ]
  },
  {
   "cell_type": "code",
   "execution_count": 15,
   "metadata": {},
   "outputs": [],
   "source": [
    "label_count = [0 for _ in range(11)] + [len(x_train)]\n",
    "for rating in y_train:\n",
    "    label_count[rating]+=1"
   ]
  },
  {
   "cell_type": "code",
   "execution_count": 16,
   "metadata": {},
   "outputs": [],
   "source": [
    "def count_value(list):\n",
    "    value_count=dict()\n",
    "    for x in list:\n",
    "        if x not in value_count:\n",
    "            value_count[x]=0\n",
    "        value_count[x]+=1\n",
    "    return value_count\n",
    "\n",
    "def predict(review):\n",
    "    probability = []\n",
    "    words_in_review_set = set(review)\n",
    "    words_counts = count_value(review)\n",
    "    for label in range(11):\n",
    "        prob = 0\n",
    "        for word in words_in_review_set:\n",
    "            if word not in words_index_dict:\n",
    "                continue\n",
    "            prob+=log(tfidf[label][words_index_dict[word]]*words_counts[word]+1)\n",
    "        prob *= label_count[label]/label_count[-1]\n",
    "        probability.append(prob)\n",
    "    return probability.index(max(probability))"
   ]
  },
  {
   "cell_type": "code",
   "execution_count": null,
   "metadata": {},
   "outputs": [],
   "source": [
    "# Download data for deploying prediction application in Fask Using Pythonanywhere\n",
    "with open('tfidf.json','w') as f_obj:\n",
    "  json.dump(tfidf,f_obj)\n",
    "\n",
    "with open('label_count.json','w') as f_obj:\n",
    "  json.dump(label_count,f_obj)\n",
    "\n",
    "with open('words_index_dict.json','w') as f_obj:\n",
    "  json.dump(words_index_dict,f_obj)"
   ]
  },
  {
   "cell_type": "code",
   "execution_count": 17,
   "metadata": {},
   "outputs": [
    {
     "name": "stdout",
     "output_type": "stream",
     "text": [
      "Accuracy =  0.2647003070857186\n"
     ]
    }
   ],
   "source": [
    "correct = 0\n",
    "for i in range(len(x_test)):\n",
    "    if predict(x_test[i]) == y_test[i]:\n",
    "        correct+=1\n",
    "accuracy = correct/len(x_test)\n",
    "print(\"Accuracy = \", accuracy)"
   ]
  }
 ],
 "metadata": {
  "kernelspec": {
   "display_name": "Python 3",
   "language": "python",
   "name": "python3"
  },
  "language_info": {
   "codemirror_mode": {
    "name": "ipython",
    "version": 3
   },
   "file_extension": ".py",
   "mimetype": "text/x-python",
   "name": "python",
   "nbconvert_exporter": "python",
   "pygments_lexer": "ipython3",
   "version": "3.7.4"
  }
 },
 "nbformat": 4,
 "nbformat_minor": 2
}
